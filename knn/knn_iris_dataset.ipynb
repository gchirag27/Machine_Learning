{
 "cells": [
  {
   "cell_type": "code",
   "execution_count": null,
   "id": "b27ec2de",
   "metadata": {},
   "outputs": [],
   "source": [
    "'''\n",
    "Topic: Your task is to implement KNN algorithm to an Iris dataset.\n",
    "Dataset: url = \"https://archive.ics.uci.edu/ml/datasets/Iris\" ,\n",
    "https://archive.ics.uci.edu/ml/machine-learning-databases/iris/iris.data\n",
    "\n",
    "METHODOLOGY\n",
    "Part 1: \n",
    "Read and parse the initial dataset\n",
    "Load it into our pandas dataframe\n",
    "Display the dataset with feature information\n",
    "Part 2: \n",
    "Split our dataset into its attributes and labels\n",
    "Preprocessing the data\n",
    "Part 3:\n",
    "Perform feature scaling\n",
    "Training and Predictions\n",
    "Evaluating the Algorithm\n",
    "\n",
    "IMPLEMENTATION\n",
    "To implement KNN you have to\n",
    "a.Split data into a train and a test split (70% and 30% respectively).\n",
    "b.Conduct two experiments with Number of neighbours  as 4 and 6.\n",
    "c.Compare the classification accuracy of KNN with neighbour value 4 and 6 functions using the performance measures:\n",
    "Accuracy score, precision score, recall score and confusion matrix\n",
    "'''"
   ]
  },
  {
   "cell_type": "code",
   "execution_count": 1,
   "id": "0df7804c",
   "metadata": {},
   "outputs": [],
   "source": [
    "# Importing all necessary libraries\n",
    "import numpy as np\n",
    "import pandas as pd\n",
    "import matplotlib.pyplot as plt\n",
    "from sklearn.model_selection import train_test_split\n",
    "from sklearn import preprocessing\n",
    "from sklearn.preprocessing import StandardScaler\n",
    "from sklearn.neighbors import KNeighborsClassifier\n",
    "from sklearn.metrics import classification_report, confusion_matrix, accuracy_score"
   ]
  },
  {
   "cell_type": "code",
   "execution_count": 2,
   "id": "99ef78da",
   "metadata": {},
   "outputs": [
    {
     "name": "stdout",
     "output_type": "stream",
     "text": [
      "<class 'pandas.core.frame.DataFrame'>\n",
      "RangeIndex: 150 entries, 0 to 149\n",
      "Data columns (total 5 columns):\n",
      " #   Column        Non-Null Count  Dtype  \n",
      "---  ------        --------------  -----  \n",
      " 0   sepal-length  150 non-null    float64\n",
      " 1   sepal-width   150 non-null    float64\n",
      " 2   petal-length  150 non-null    float64\n",
      " 3   petal-width   150 non-null    float64\n",
      " 4   Class         150 non-null    object \n",
      "dtypes: float64(4), object(1)\n",
      "memory usage: 6.0+ KB\n"
     ]
    },
    {
     "data": {
      "text/html": [
       "<div>\n",
       "<style scoped>\n",
       "    .dataframe tbody tr th:only-of-type {\n",
       "        vertical-align: middle;\n",
       "    }\n",
       "\n",
       "    .dataframe tbody tr th {\n",
       "        vertical-align: top;\n",
       "    }\n",
       "\n",
       "    .dataframe thead th {\n",
       "        text-align: right;\n",
       "    }\n",
       "</style>\n",
       "<table border=\"1\" class=\"dataframe\">\n",
       "  <thead>\n",
       "    <tr style=\"text-align: right;\">\n",
       "      <th></th>\n",
       "      <th>sepal-length</th>\n",
       "      <th>sepal-width</th>\n",
       "      <th>petal-length</th>\n",
       "      <th>petal-width</th>\n",
       "      <th>Class</th>\n",
       "    </tr>\n",
       "  </thead>\n",
       "  <tbody>\n",
       "    <tr>\n",
       "      <th>0</th>\n",
       "      <td>5.1</td>\n",
       "      <td>3.5</td>\n",
       "      <td>1.4</td>\n",
       "      <td>0.2</td>\n",
       "      <td>Iris-setosa</td>\n",
       "    </tr>\n",
       "    <tr>\n",
       "      <th>1</th>\n",
       "      <td>4.9</td>\n",
       "      <td>3.0</td>\n",
       "      <td>1.4</td>\n",
       "      <td>0.2</td>\n",
       "      <td>Iris-setosa</td>\n",
       "    </tr>\n",
       "    <tr>\n",
       "      <th>2</th>\n",
       "      <td>4.7</td>\n",
       "      <td>3.2</td>\n",
       "      <td>1.3</td>\n",
       "      <td>0.2</td>\n",
       "      <td>Iris-setosa</td>\n",
       "    </tr>\n",
       "    <tr>\n",
       "      <th>3</th>\n",
       "      <td>4.6</td>\n",
       "      <td>3.1</td>\n",
       "      <td>1.5</td>\n",
       "      <td>0.2</td>\n",
       "      <td>Iris-setosa</td>\n",
       "    </tr>\n",
       "    <tr>\n",
       "      <th>4</th>\n",
       "      <td>5.0</td>\n",
       "      <td>3.6</td>\n",
       "      <td>1.4</td>\n",
       "      <td>0.2</td>\n",
       "      <td>Iris-setosa</td>\n",
       "    </tr>\n",
       "  </tbody>\n",
       "</table>\n",
       "</div>"
      ],
      "text/plain": [
       "   sepal-length  sepal-width  petal-length  petal-width        Class\n",
       "0           5.1          3.5           1.4          0.2  Iris-setosa\n",
       "1           4.9          3.0           1.4          0.2  Iris-setosa\n",
       "2           4.7          3.2           1.3          0.2  Iris-setosa\n",
       "3           4.6          3.1           1.5          0.2  Iris-setosa\n",
       "4           5.0          3.6           1.4          0.2  Iris-setosa"
      ]
     },
     "execution_count": 2,
     "metadata": {},
     "output_type": "execute_result"
    }
   ],
   "source": [
    "'''\n",
    "#We can also import the iris dataset using the sklearn datasets\n",
    "from sklearn.datasets import load_iris \n",
    "iris = load_iris()\n",
    "X=iris.data[:,:4]\n",
    "y=iris.target\n",
    "print(X)\n",
    "print(y)\n",
    "'''\n",
    "\n",
    "url = \"https://archive.ics.uci.edu/ml/machine-learning-databases/iris/iris.data\"\n",
    "# Assign colum names to the dataset\n",
    "names = ['sepal-length', 'sepal-width', 'petal-length', 'petal-width', 'Class']\n",
    "# Read dataset to pandas dataframe\n",
    "irisdata= pd.read_csv(url, names=names)\n",
    "# Display the dataset with feature information\n",
    "irisdata.info()\n",
    "irisdata.head()"
   ]
  },
  {
   "cell_type": "code",
   "execution_count": 3,
   "id": "daac37ee",
   "metadata": {},
   "outputs": [
    {
     "name": "stdout",
     "output_type": "stream",
     "text": [
      "<class 'pandas.core.frame.DataFrame'>\n",
      "     Class\n",
      "0        0\n",
      "1        0\n",
      "2        0\n",
      "3        0\n",
      "4        0\n",
      "..     ...\n",
      "145      2\n",
      "146      2\n",
      "147      2\n",
      "148      2\n",
      "149      2\n",
      "\n",
      "[150 rows x 1 columns]\n"
     ]
    }
   ],
   "source": [
    "# Assign data from first four columns to X variable\n",
    "X = irisdata.iloc[:, 0:4]\n",
    "# Assign data from first fifth columns to y variable ('Class attribute')\n",
    "y = irisdata.select_dtypes(include=[object])\n",
    "print(type(y))\n",
    "le = preprocessing.LabelEncoder()\n",
    "y = y.apply(le.fit_transform)\n",
    "print(y)\n",
    "y=np.ravel(y)\n",
    "# unique values we have in our y array\n",
    "#np.unique(y)"
   ]
  },
  {
   "cell_type": "code",
   "execution_count": 4,
   "id": "638c8949",
   "metadata": {},
   "outputs": [],
   "source": [
    "# Create training and test splits\n",
    "X_train, X_test, y_train, y_test = train_test_split(X, y, test_size=0.3, train_size=0.7, random_state=0) #30% test and 70% train"
   ]
  },
  {
   "cell_type": "code",
   "execution_count": 5,
   "id": "b33c2579",
   "metadata": {},
   "outputs": [],
   "source": [
    "# perform feature scaling\n",
    "scaler = StandardScaler()\n",
    "scaler.fit(X_train)\n",
    "X_train = scaler.transform(X_train)\n",
    "X_test = scaler.transform(X_test)"
   ]
  },
  {
   "cell_type": "code",
   "execution_count": 6,
   "id": "70386ffe",
   "metadata": {},
   "outputs": [],
   "source": [
    "# Training and Predictions (Number of neighbours as 4)\n",
    "classifier_four = KNeighborsClassifier(n_neighbors=4)\n",
    "classifier_four.fit(X_train, y_train)\n",
    "y_pred_four = classifier_four.predict(X_test)"
   ]
  },
  {
   "cell_type": "code",
   "execution_count": 7,
   "id": "9477511c",
   "metadata": {},
   "outputs": [
    {
     "name": "stdout",
     "output_type": "stream",
     "text": [
      "For number of neighbours as 4: \n",
      "\n",
      "Training predictions accuracy: 0.9714285714285714\n",
      "\n",
      "Testing predictions accuracy: 0.9777777777777777\n",
      "\n",
      "Confusion matrix:\n",
      " [[16  0  0]\n",
      " [ 0 17  1]\n",
      " [ 0  0 11]]\n",
      "\n",
      "Classification report:\n",
      "               precision    recall  f1-score   support\n",
      "\n",
      "           0       1.00      1.00      1.00        16\n",
      "           1       1.00      0.94      0.97        18\n",
      "           2       0.92      1.00      0.96        11\n",
      "\n",
      "    accuracy                           0.98        45\n",
      "   macro avg       0.97      0.98      0.98        45\n",
      "weighted avg       0.98      0.98      0.98        45\n",
      "\n",
      "\n",
      "Accuracy Score on Confusion Matrix: 0.9777777777777777\n",
      "Error Score on Confusion Matrix: 0.022222222222222254\n"
     ]
    }
   ],
   "source": [
    "# Evaluating the Algorithm for number of neighbours as 4\n",
    "print('For number of neighbours as 4: \\n')\n",
    "predictions_train_four = classifier_four.predict(X_train)\n",
    "print('Training predictions accuracy:',accuracy_score(predictions_train_four, y_train))\n",
    "predictions_test_four = classifier_four.predict(X_test)\n",
    "print('\\nTesting predictions accuracy:',accuracy_score(predictions_test_four, y_test))\n",
    "print('\\nConfusion matrix:\\n',confusion_matrix(y_test, y_pred_four)) \n",
    "print('\\nClassification report:\\n',classification_report(y_test, y_pred_four))\n",
    "print('\\nAccuracy Score on Confusion Matrix:',accuracy_score(y_test, y_pred_four)) \n",
    "print('Error Score on Confusion Matrix:',1-accuracy_score(y_test, y_pred_four))"
   ]
  },
  {
   "cell_type": "code",
   "execution_count": 8,
   "id": "9385adaf",
   "metadata": {},
   "outputs": [],
   "source": [
    "# Training and Predictions (Number of neighbours as 6)\n",
    "classifier_six = KNeighborsClassifier(n_neighbors=6)\n",
    "classifier_six.fit(X_train, y_train)\n",
    "y_pred_six = classifier_six.predict(X_test)"
   ]
  },
  {
   "cell_type": "code",
   "execution_count": 9,
   "id": "66cf087a",
   "metadata": {},
   "outputs": [
    {
     "name": "stdout",
     "output_type": "stream",
     "text": [
      "For number of neighbours as 6: \n",
      "\n",
      "Training predictions accuracy: 0.9809523809523809\n",
      "\n",
      "Testing predictions accuracy: 0.9777777777777777\n",
      "\n",
      "Confusion matrix:\n",
      " [[16  0  0]\n",
      " [ 0 17  1]\n",
      " [ 0  0 11]]\n",
      "\n",
      "Classification report:\n",
      "               precision    recall  f1-score   support\n",
      "\n",
      "           0       1.00      1.00      1.00        16\n",
      "           1       1.00      0.94      0.97        18\n",
      "           2       0.92      1.00      0.96        11\n",
      "\n",
      "    accuracy                           0.98        45\n",
      "   macro avg       0.97      0.98      0.98        45\n",
      "weighted avg       0.98      0.98      0.98        45\n",
      "\n",
      "\n",
      "Accuracy Score on Confusion Matrix: 0.9777777777777777\n",
      "Error Score on Confusion Matrix: 0.022222222222222254\n"
     ]
    }
   ],
   "source": [
    "# Evaluating the Algorithm for number of neighbours as 6\n",
    "print('For number of neighbours as 6: \\n')\n",
    "predictions_train_six = classifier_six.predict(X_train)\n",
    "print('Training predictions accuracy:',accuracy_score(predictions_train_six,y_train))\n",
    "predictions_test_six = classifier_six.predict(X_test)\n",
    "print('\\nTesting predictions accuracy:',accuracy_score(predictions_test_six, y_test))\n",
    "print('\\nConfusion matrix:\\n',confusion_matrix(y_test, y_pred_six)) \n",
    "print('\\nClassification report:\\n',classification_report(y_test, y_pred_six))\n",
    "print('\\nAccuracy Score on Confusion Matrix:',accuracy_score(y_test, y_pred_six)) \n",
    "print('Error Score on Confusion Matrix:',1-accuracy_score(y_test, y_pred_six))"
   ]
  },
  {
   "cell_type": "code",
   "execution_count": 10,
   "id": "314d5f0b",
   "metadata": {},
   "outputs": [],
   "source": [
    "# Comparing Error Rate with the K Value \n",
    "# Calculating error for K values between 1 and 40\n",
    "error=[]\n",
    "for i in range(1, 40):\n",
    "    knn = KNeighborsClassifier(n_neighbors=i)\n",
    "    knn.fit(X_train, y_train)\n",
    "    pred_i = knn.predict(X_test)\n",
    "    error.append(np.mean(pred_i != y_test))"
   ]
  },
  {
   "cell_type": "code",
   "execution_count": 11,
   "id": "26bd1ec5",
   "metadata": {},
   "outputs": [
    {
     "data": {
      "text/plain": [
       "Text(0, 0.5, 'Mean Error')"
      ]
     },
     "execution_count": 11,
     "metadata": {},
     "output_type": "execute_result"
    },
    {
     "data": {
      "image/png": "[encoded data removed]",
      "text/plain": [
       "<Figure size 864x432 with 1 Axes>"
      ]
     },
     "metadata": {
      "needs_background": "light"
     },
     "output_type": "display_data"
    }
   ],
   "source": [
    "# Plot the error values against K values\n",
    "plt.figure(figsize=(12, 6))\n",
    "plt.plot(range(1, 40), error, color='red', linestyle='dashed', marker='o', markerfacecolor='blue', markersize=10)\n",
    "plt.title('Error Rate K Value')\n",
    "plt.xlabel('K Value')\n",
    "plt.ylabel('Mean Error')"
   ]
  }
 ],
 "metadata": {
  "interpreter": {
   "hash": "9678f8789bb76b1ed510d8c6ab8133bae57854d44d8f940328c9f7cf9bfb4f84"
  },
  "kernelspec": {
   "display_name": "Python 3 (ipykernel)",
   "language": "python",
   "name": "python3"
  },
  "language_info": {
   "codemirror_mode": {
    "name": "ipython",
    "version": 3
   },
   "file_extension": ".py",
   "mimetype": "text/x-python",
   "name": "python",
   "nbconvert_exporter": "python",
   "pygments_lexer": "ipython3",
   "version": "3.9.9"
  }
 },
 "nbformat": 4,
 "nbformat_minor": 5
}
