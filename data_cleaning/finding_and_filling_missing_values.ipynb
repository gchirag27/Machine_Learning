{
 "cells": [
  {
   "cell_type": "code",
   "execution_count": null,
   "id": "b868e5a3",
   "metadata": {},
   "outputs": [],
   "source": [
    "'''\n",
    "Topic: Demonstrate possible missing value analysis(used mean and median) approaches using any real world data.\n",
    "Dataset: train.csv\n",
    "'''"
   ]
  },
  {
   "cell_type": "code",
   "execution_count": 1,
   "id": "1b4f321d",
   "metadata": {},
   "outputs": [],
   "source": [
    "import numpy as np #Importing NumPy library\n",
    "import pandas as pd #Importing pandas library"
   ]
  },
  {
   "cell_type": "code",
   "execution_count": 2,
   "id": "ad60525a",
   "metadata": {},
   "outputs": [],
   "source": [
    "#1.Dropping the missing values(NaN) and filling them with mean of non null values."
   ]
  },
  {
   "cell_type": "code",
   "execution_count": 3,
   "id": "452c529a",
   "metadata": {},
   "outputs": [],
   "source": [
    "#Drop the missing values."
   ]
  },
  {
   "cell_type": "code",
   "execution_count": 4,
   "id": "1581a526",
   "metadata": {},
   "outputs": [],
   "source": [
    "train_mean=pd.read_csv('train.csv') #Reads the csv file at the specified location."
   ]
  },
  {
   "cell_type": "code",
   "execution_count": 5,
   "id": "3747c5ac",
   "metadata": {},
   "outputs": [
    {
     "name": "stdout",
     "output_type": "stream",
     "text": [
      "<class 'pandas.core.frame.DataFrame'>\n",
      "RangeIndex: 50 entries, 0 to 49\n",
      "Data columns (total 5 columns):\n",
      " #   Column          Non-Null Count  Dtype  \n",
      "---  ------          --------------  -----  \n",
      " 0   Row ID          50 non-null     int64  \n",
      " 1   Order ID        50 non-null     int64  \n",
      " 2   Order Quantity  42 non-null     float64\n",
      " 3   Sales           41 non-null     float64\n",
      " 4   profit          45 non-null     float64\n",
      "dtypes: float64(3), int64(2)\n",
      "memory usage: 2.1 KB\n"
     ]
    }
   ],
   "source": [
    "train_mean.info() #This will tell us the total number of non null observations present including the total number of entries."
   ]
  },
  {
   "cell_type": "code",
   "execution_count": 6,
   "id": "2d4993b4",
   "metadata": {},
   "outputs": [
    {
     "data": {
      "text/html": [
       "<div>\n",
       "<style scoped>\n",
       "    .dataframe tbody tr th:only-of-type {\n",
       "        vertical-align: middle;\n",
       "    }\n",
       "\n",
       "    .dataframe tbody tr th {\n",
       "        vertical-align: top;\n",
       "    }\n",
       "\n",
       "    .dataframe thead th {\n",
       "        text-align: right;\n",
       "    }\n",
       "</style>\n",
       "<table border=\"1\" class=\"dataframe\">\n",
       "  <thead>\n",
       "    <tr style=\"text-align: right;\">\n",
       "      <th></th>\n",
       "      <th>Row ID</th>\n",
       "      <th>Order ID</th>\n",
       "      <th>Order Quantity</th>\n",
       "      <th>Sales</th>\n",
       "      <th>profit</th>\n",
       "    </tr>\n",
       "  </thead>\n",
       "  <tbody>\n",
       "    <tr>\n",
       "      <th>0</th>\n",
       "      <td>1</td>\n",
       "      <td>3</td>\n",
       "      <td>7.0</td>\n",
       "      <td>261.5400</td>\n",
       "      <td>0.80</td>\n",
       "    </tr>\n",
       "    <tr>\n",
       "      <th>1</th>\n",
       "      <td>2</td>\n",
       "      <td>6</td>\n",
       "      <td>6.0</td>\n",
       "      <td>-6.9300</td>\n",
       "      <td>NaN</td>\n",
       "    </tr>\n",
       "    <tr>\n",
       "      <th>2</th>\n",
       "      <td>3</td>\n",
       "      <td>32</td>\n",
       "      <td>-90.0</td>\n",
       "      <td>2808.0800</td>\n",
       "      <td>0.65</td>\n",
       "    </tr>\n",
       "    <tr>\n",
       "      <th>3</th>\n",
       "      <td>4</td>\n",
       "      <td>32</td>\n",
       "      <td>NaN</td>\n",
       "      <td>1761.4000</td>\n",
       "      <td>0.72</td>\n",
       "    </tr>\n",
       "    <tr>\n",
       "      <th>4</th>\n",
       "      <td>5</td>\n",
       "      <td>32</td>\n",
       "      <td>NaN</td>\n",
       "      <td>NaN</td>\n",
       "      <td>0.60</td>\n",
       "    </tr>\n",
       "    <tr>\n",
       "      <th>5</th>\n",
       "      <td>6</td>\n",
       "      <td>32</td>\n",
       "      <td>15.0</td>\n",
       "      <td>140.5600</td>\n",
       "      <td>0.60</td>\n",
       "    </tr>\n",
       "    <tr>\n",
       "      <th>6</th>\n",
       "      <td>7</td>\n",
       "      <td>35</td>\n",
       "      <td>-30.0</td>\n",
       "      <td>288.5600</td>\n",
       "      <td>NaN</td>\n",
       "    </tr>\n",
       "    <tr>\n",
       "      <th>7</th>\n",
       "      <td>8</td>\n",
       "      <td>35</td>\n",
       "      <td>14.0</td>\n",
       "      <td>1892.8480</td>\n",
       "      <td>NaN</td>\n",
       "    </tr>\n",
       "    <tr>\n",
       "      <th>8</th>\n",
       "      <td>9</td>\n",
       "      <td>36</td>\n",
       "      <td>46.0</td>\n",
       "      <td>2484.7455</td>\n",
       "      <td>0.55</td>\n",
       "    </tr>\n",
       "    <tr>\n",
       "      <th>9</th>\n",
       "      <td>10</td>\n",
       "      <td>65</td>\n",
       "      <td>-32.0</td>\n",
       "      <td>NaN</td>\n",
       "      <td>0.49</td>\n",
       "    </tr>\n",
       "  </tbody>\n",
       "</table>\n",
       "</div>"
      ],
      "text/plain": [
       "   Row ID  Order ID  Order Quantity      Sales  profit\n",
       "0       1         3             7.0   261.5400    0.80\n",
       "1       2         6             6.0    -6.9300     NaN\n",
       "2       3        32           -90.0  2808.0800    0.65\n",
       "3       4        32             NaN  1761.4000    0.72\n",
       "4       5        32             NaN        NaN    0.60\n",
       "5       6        32            15.0   140.5600    0.60\n",
       "6       7        35           -30.0   288.5600     NaN\n",
       "7       8        35            14.0  1892.8480     NaN\n",
       "8       9        36            46.0  2484.7455    0.55\n",
       "9      10        65           -32.0        NaN    0.49"
      ]
     },
     "execution_count": 6,
     "metadata": {},
     "output_type": "execute_result"
    }
   ],
   "source": [
    "train_mean.head(10) #It gives the output of the first 10 rows of the data."
   ]
  },
  {
   "cell_type": "code",
   "execution_count": 7,
   "id": "294c7a85",
   "metadata": {},
   "outputs": [
    {
     "data": {
      "text/plain": [
       "Row ID            0\n",
       "Order ID          0\n",
       "Order Quantity    8\n",
       "Sales             9\n",
       "profit            5\n",
       "dtype: int64"
      ]
     },
     "execution_count": 7,
     "metadata": {},
     "output_type": "execute_result"
    }
   ],
   "source": [
    "train_mean.isnull().sum() #It tells us the total number of NaN values in the data."
   ]
  },
  {
   "cell_type": "code",
   "execution_count": 8,
   "id": "172567c5",
   "metadata": {},
   "outputs": [
    {
     "name": "stdout",
     "output_type": "stream",
     "text": [
      "<class 'pandas.core.frame.DataFrame'>\n",
      "Int64Index: 31 entries, 0 to 49\n",
      "Data columns (total 5 columns):\n",
      " #   Column          Non-Null Count  Dtype  \n",
      "---  ------          --------------  -----  \n",
      " 0   Row ID          31 non-null     int64  \n",
      " 1   Order ID        31 non-null     int64  \n",
      " 2   Order Quantity  31 non-null     float64\n",
      " 3   Sales           31 non-null     float64\n",
      " 4   profit          31 non-null     float64\n",
      "dtypes: float64(3), int64(2)\n",
      "memory usage: 1.5 KB\n"
     ]
    }
   ],
   "source": [
    "df_mean=train_mean.dropna() #It deletes all rows where NaN is found.\n",
    "df_mean.info() #Gives the information 50 entries are reduced to 31. So there were 19 rows in 50 which had NaN value."
   ]
  },
  {
   "cell_type": "code",
   "execution_count": 9,
   "id": "0dfdf6c3",
   "metadata": {},
   "outputs": [],
   "source": [
    "#Fill the missing values with mean of the non null values"
   ]
  },
  {
   "cell_type": "code",
   "execution_count": 10,
   "id": "d8a8690c",
   "metadata": {},
   "outputs": [
    {
     "name": "stdout",
     "output_type": "stream",
     "text": [
      "19.738095238095237\n"
     ]
    }
   ],
   "source": [
    "mean_value_OQ=train_mean['Order Quantity'].mean() #Finds the mean value of the non null values in the Order Quantity column.\n",
    "train_mean['Order Quantity']=train_mean['Order Quantity'].fillna(mean_value_OQ) #Replaces NaN values with the output mean.\n",
    "print(mean_value_OQ)"
   ]
  },
  {
   "cell_type": "code",
   "execution_count": 11,
   "id": "0131844e",
   "metadata": {},
   "outputs": [
    {
     "name": "stdout",
     "output_type": "stream",
     "text": [
      "1331.8720975609756\n"
     ]
    }
   ],
   "source": [
    "mean_value_Sales=train_mean['Sales'].mean() #Finds the mean value of the non null values in the Sales column.\n",
    "train_mean['Sales']=train_mean['Sales'].fillna(mean_value_Sales) #Replaces NaN values with the output mean.\n",
    "print(mean_value_Sales)"
   ]
  },
  {
   "cell_type": "code",
   "execution_count": 12,
   "id": "7e280937",
   "metadata": {},
   "outputs": [
    {
     "name": "stdout",
     "output_type": "stream",
     "text": [
      "0.5546666666666666\n"
     ]
    }
   ],
   "source": [
    "mean_value_profit=train_mean['profit'].mean() #Finds the mean value of the non null values in the profit column.\n",
    "train_mean['profit']=train_mean['profit'].fillna(mean_value_profit) #Replaces NaN values with the output mean.\n",
    "print(mean_value_profit)"
   ]
  },
  {
   "cell_type": "code",
   "execution_count": 13,
   "id": "af852bfc",
   "metadata": {},
   "outputs": [
    {
     "data": {
      "text/html": [
       "<div>\n",
       "<style scoped>\n",
       "    .dataframe tbody tr th:only-of-type {\n",
       "        vertical-align: middle;\n",
       "    }\n",
       "\n",
       "    .dataframe tbody tr th {\n",
       "        vertical-align: top;\n",
       "    }\n",
       "\n",
       "    .dataframe thead th {\n",
       "        text-align: right;\n",
       "    }\n",
       "</style>\n",
       "<table border=\"1\" class=\"dataframe\">\n",
       "  <thead>\n",
       "    <tr style=\"text-align: right;\">\n",
       "      <th></th>\n",
       "      <th>Row ID</th>\n",
       "      <th>Order ID</th>\n",
       "      <th>Order Quantity</th>\n",
       "      <th>Sales</th>\n",
       "      <th>profit</th>\n",
       "    </tr>\n",
       "  </thead>\n",
       "  <tbody>\n",
       "    <tr>\n",
       "      <th>0</th>\n",
       "      <td>1</td>\n",
       "      <td>3</td>\n",
       "      <td>7.000000</td>\n",
       "      <td>261.540000</td>\n",
       "      <td>0.800000</td>\n",
       "    </tr>\n",
       "    <tr>\n",
       "      <th>1</th>\n",
       "      <td>2</td>\n",
       "      <td>6</td>\n",
       "      <td>6.000000</td>\n",
       "      <td>-6.930000</td>\n",
       "      <td>0.554667</td>\n",
       "    </tr>\n",
       "    <tr>\n",
       "      <th>2</th>\n",
       "      <td>3</td>\n",
       "      <td>32</td>\n",
       "      <td>-90.000000</td>\n",
       "      <td>2808.080000</td>\n",
       "      <td>0.650000</td>\n",
       "    </tr>\n",
       "    <tr>\n",
       "      <th>3</th>\n",
       "      <td>4</td>\n",
       "      <td>32</td>\n",
       "      <td>19.738095</td>\n",
       "      <td>1761.400000</td>\n",
       "      <td>0.720000</td>\n",
       "    </tr>\n",
       "    <tr>\n",
       "      <th>4</th>\n",
       "      <td>5</td>\n",
       "      <td>32</td>\n",
       "      <td>19.738095</td>\n",
       "      <td>1331.872098</td>\n",
       "      <td>0.600000</td>\n",
       "    </tr>\n",
       "    <tr>\n",
       "      <th>5</th>\n",
       "      <td>6</td>\n",
       "      <td>32</td>\n",
       "      <td>15.000000</td>\n",
       "      <td>140.560000</td>\n",
       "      <td>0.600000</td>\n",
       "    </tr>\n",
       "    <tr>\n",
       "      <th>6</th>\n",
       "      <td>7</td>\n",
       "      <td>35</td>\n",
       "      <td>-30.000000</td>\n",
       "      <td>288.560000</td>\n",
       "      <td>0.554667</td>\n",
       "    </tr>\n",
       "    <tr>\n",
       "      <th>7</th>\n",
       "      <td>8</td>\n",
       "      <td>35</td>\n",
       "      <td>14.000000</td>\n",
       "      <td>1892.848000</td>\n",
       "      <td>0.554667</td>\n",
       "    </tr>\n",
       "    <tr>\n",
       "      <th>8</th>\n",
       "      <td>9</td>\n",
       "      <td>36</td>\n",
       "      <td>46.000000</td>\n",
       "      <td>2484.745500</td>\n",
       "      <td>0.550000</td>\n",
       "    </tr>\n",
       "    <tr>\n",
       "      <th>9</th>\n",
       "      <td>10</td>\n",
       "      <td>65</td>\n",
       "      <td>-32.000000</td>\n",
       "      <td>1331.872098</td>\n",
       "      <td>0.490000</td>\n",
       "    </tr>\n",
       "  </tbody>\n",
       "</table>\n",
       "</div>"
      ],
      "text/plain": [
       "   Row ID  Order ID  Order Quantity        Sales    profit\n",
       "0       1         3        7.000000   261.540000  0.800000\n",
       "1       2         6        6.000000    -6.930000  0.554667\n",
       "2       3        32      -90.000000  2808.080000  0.650000\n",
       "3       4        32       19.738095  1761.400000  0.720000\n",
       "4       5        32       19.738095  1331.872098  0.600000\n",
       "5       6        32       15.000000   140.560000  0.600000\n",
       "6       7        35      -30.000000   288.560000  0.554667\n",
       "7       8        35       14.000000  1892.848000  0.554667\n",
       "8       9        36       46.000000  2484.745500  0.550000\n",
       "9      10        65      -32.000000  1331.872098  0.490000"
      ]
     },
     "execution_count": 13,
     "metadata": {},
     "output_type": "execute_result"
    }
   ],
   "source": [
    "train_mean.head(10) #All the NaN values are now replaced with the mean of the respective columns."
   ]
  },
  {
   "cell_type": "code",
   "execution_count": 14,
   "id": "d7a51609",
   "metadata": {},
   "outputs": [
    {
     "name": "stdout",
     "output_type": "stream",
     "text": [
      "<class 'pandas.core.frame.DataFrame'>\n",
      "RangeIndex: 50 entries, 0 to 49\n",
      "Data columns (total 5 columns):\n",
      " #   Column          Non-Null Count  Dtype  \n",
      "---  ------          --------------  -----  \n",
      " 0   Row ID          50 non-null     int64  \n",
      " 1   Order ID        50 non-null     int64  \n",
      " 2   Order Quantity  50 non-null     float64\n",
      " 3   Sales           50 non-null     float64\n",
      " 4   profit          50 non-null     float64\n",
      "dtypes: float64(3), int64(2)\n",
      "memory usage: 2.1 KB\n"
     ]
    }
   ],
   "source": [
    "train_mean.info() #Now we don't have any NaN values so all columns have 50 non null values."
   ]
  },
  {
   "cell_type": "code",
   "execution_count": 15,
   "id": "65963198",
   "metadata": {},
   "outputs": [],
   "source": [
    "#2.Dropping the missing values(NaN) and filling them with median of non null values."
   ]
  },
  {
   "cell_type": "code",
   "execution_count": 16,
   "id": "2bd31fea",
   "metadata": {},
   "outputs": [],
   "source": [
    "#Drop the missing values."
   ]
  },
  {
   "cell_type": "code",
   "execution_count": 17,
   "id": "1ecd284c",
   "metadata": {},
   "outputs": [],
   "source": [
    "train_median=pd.read_csv('train.csv') #Reads the csv file at the specified location."
   ]
  },
  {
   "cell_type": "code",
   "execution_count": 18,
   "id": "ee72018a",
   "metadata": {},
   "outputs": [
    {
     "name": "stdout",
     "output_type": "stream",
     "text": [
      "<class 'pandas.core.frame.DataFrame'>\n",
      "RangeIndex: 50 entries, 0 to 49\n",
      "Data columns (total 5 columns):\n",
      " #   Column          Non-Null Count  Dtype  \n",
      "---  ------          --------------  -----  \n",
      " 0   Row ID          50 non-null     int64  \n",
      " 1   Order ID        50 non-null     int64  \n",
      " 2   Order Quantity  42 non-null     float64\n",
      " 3   Sales           41 non-null     float64\n",
      " 4   profit          45 non-null     float64\n",
      "dtypes: float64(3), int64(2)\n",
      "memory usage: 2.1 KB\n"
     ]
    }
   ],
   "source": [
    "train_median.info() #This will tell us the total number of non null observations present including the total number of entries."
   ]
  },
  {
   "cell_type": "code",
   "execution_count": 19,
   "id": "6205abf5",
   "metadata": {},
   "outputs": [
    {
     "data": {
      "text/html": [
       "<div>\n",
       "<style scoped>\n",
       "    .dataframe tbody tr th:only-of-type {\n",
       "        vertical-align: middle;\n",
       "    }\n",
       "\n",
       "    .dataframe tbody tr th {\n",
       "        vertical-align: top;\n",
       "    }\n",
       "\n",
       "    .dataframe thead th {\n",
       "        text-align: right;\n",
       "    }\n",
       "</style>\n",
       "<table border=\"1\" class=\"dataframe\">\n",
       "  <thead>\n",
       "    <tr style=\"text-align: right;\">\n",
       "      <th></th>\n",
       "      <th>Row ID</th>\n",
       "      <th>Order ID</th>\n",
       "      <th>Order Quantity</th>\n",
       "      <th>Sales</th>\n",
       "      <th>profit</th>\n",
       "    </tr>\n",
       "  </thead>\n",
       "  <tbody>\n",
       "    <tr>\n",
       "      <th>0</th>\n",
       "      <td>1</td>\n",
       "      <td>3</td>\n",
       "      <td>7.0</td>\n",
       "      <td>261.5400</td>\n",
       "      <td>0.80</td>\n",
       "    </tr>\n",
       "    <tr>\n",
       "      <th>1</th>\n",
       "      <td>2</td>\n",
       "      <td>6</td>\n",
       "      <td>6.0</td>\n",
       "      <td>-6.9300</td>\n",
       "      <td>NaN</td>\n",
       "    </tr>\n",
       "    <tr>\n",
       "      <th>2</th>\n",
       "      <td>3</td>\n",
       "      <td>32</td>\n",
       "      <td>-90.0</td>\n",
       "      <td>2808.0800</td>\n",
       "      <td>0.65</td>\n",
       "    </tr>\n",
       "    <tr>\n",
       "      <th>3</th>\n",
       "      <td>4</td>\n",
       "      <td>32</td>\n",
       "      <td>NaN</td>\n",
       "      <td>1761.4000</td>\n",
       "      <td>0.72</td>\n",
       "    </tr>\n",
       "    <tr>\n",
       "      <th>4</th>\n",
       "      <td>5</td>\n",
       "      <td>32</td>\n",
       "      <td>NaN</td>\n",
       "      <td>NaN</td>\n",
       "      <td>0.60</td>\n",
       "    </tr>\n",
       "    <tr>\n",
       "      <th>5</th>\n",
       "      <td>6</td>\n",
       "      <td>32</td>\n",
       "      <td>15.0</td>\n",
       "      <td>140.5600</td>\n",
       "      <td>0.60</td>\n",
       "    </tr>\n",
       "    <tr>\n",
       "      <th>6</th>\n",
       "      <td>7</td>\n",
       "      <td>35</td>\n",
       "      <td>-30.0</td>\n",
       "      <td>288.5600</td>\n",
       "      <td>NaN</td>\n",
       "    </tr>\n",
       "    <tr>\n",
       "      <th>7</th>\n",
       "      <td>8</td>\n",
       "      <td>35</td>\n",
       "      <td>14.0</td>\n",
       "      <td>1892.8480</td>\n",
       "      <td>NaN</td>\n",
       "    </tr>\n",
       "    <tr>\n",
       "      <th>8</th>\n",
       "      <td>9</td>\n",
       "      <td>36</td>\n",
       "      <td>46.0</td>\n",
       "      <td>2484.7455</td>\n",
       "      <td>0.55</td>\n",
       "    </tr>\n",
       "    <tr>\n",
       "      <th>9</th>\n",
       "      <td>10</td>\n",
       "      <td>65</td>\n",
       "      <td>-32.0</td>\n",
       "      <td>NaN</td>\n",
       "      <td>0.49</td>\n",
       "    </tr>\n",
       "  </tbody>\n",
       "</table>\n",
       "</div>"
      ],
      "text/plain": [
       "   Row ID  Order ID  Order Quantity      Sales  profit\n",
       "0       1         3             7.0   261.5400    0.80\n",
       "1       2         6             6.0    -6.9300     NaN\n",
       "2       3        32           -90.0  2808.0800    0.65\n",
       "3       4        32             NaN  1761.4000    0.72\n",
       "4       5        32             NaN        NaN    0.60\n",
       "5       6        32            15.0   140.5600    0.60\n",
       "6       7        35           -30.0   288.5600     NaN\n",
       "7       8        35            14.0  1892.8480     NaN\n",
       "8       9        36            46.0  2484.7455    0.55\n",
       "9      10        65           -32.0        NaN    0.49"
      ]
     },
     "execution_count": 19,
     "metadata": {},
     "output_type": "execute_result"
    }
   ],
   "source": [
    "train_median.head(10) #It gives the output of the first 10 rows of the data."
   ]
  },
  {
   "cell_type": "code",
   "execution_count": 20,
   "id": "71b2669e",
   "metadata": {},
   "outputs": [
    {
     "data": {
      "text/plain": [
       "Row ID            0\n",
       "Order ID          0\n",
       "Order Quantity    8\n",
       "Sales             9\n",
       "profit            5\n",
       "dtype: int64"
      ]
     },
     "execution_count": 20,
     "metadata": {},
     "output_type": "execute_result"
    }
   ],
   "source": [
    "train_median.isnull().sum() #It tells us the total number of NaN values in the data."
   ]
  },
  {
   "cell_type": "code",
   "execution_count": 21,
   "id": "6237e59e",
   "metadata": {},
   "outputs": [
    {
     "name": "stdout",
     "output_type": "stream",
     "text": [
      "<class 'pandas.core.frame.DataFrame'>\n",
      "Int64Index: 31 entries, 0 to 49\n",
      "Data columns (total 5 columns):\n",
      " #   Column          Non-Null Count  Dtype  \n",
      "---  ------          --------------  -----  \n",
      " 0   Row ID          31 non-null     int64  \n",
      " 1   Order ID        31 non-null     int64  \n",
      " 2   Order Quantity  31 non-null     float64\n",
      " 3   Sales           31 non-null     float64\n",
      " 4   profit          31 non-null     float64\n",
      "dtypes: float64(3), int64(2)\n",
      "memory usage: 1.5 KB\n"
     ]
    }
   ],
   "source": [
    "df_median=train_median.dropna() #It deletes all rows where NaN is found.\n",
    "df_median.info() #Gives the information 50 entries are reduced to 31. So there were 19 rows in 50 which had NaN value."
   ]
  },
  {
   "cell_type": "code",
   "execution_count": 22,
   "id": "4dfacd5f",
   "metadata": {},
   "outputs": [],
   "source": [
    "#Fill the missing values with median of the non null values."
   ]
  },
  {
   "cell_type": "code",
   "execution_count": 23,
   "id": "42cdc569",
   "metadata": {},
   "outputs": [
    {
     "name": "stdout",
     "output_type": "stream",
     "text": [
      "24.0\n"
     ]
    }
   ],
   "source": [
    "median_value_OQ=train_median['Order Quantity'].median() #Finds the median value of the non null values in the Order Quantity column.\n",
    "train_median['Order Quantity']=train_median['Order Quantity'].fillna(median_value_OQ) #Replaces NaN values with the output median.\n",
    "print(median_value_OQ)"
   ]
  },
  {
   "cell_type": "code",
   "execution_count": 24,
   "id": "6716055e",
   "metadata": {},
   "outputs": [
    {
     "name": "stdout",
     "output_type": "stream",
     "text": [
      "329.03\n"
     ]
    }
   ],
   "source": [
    "median_value_Sales=train_median['Sales'].median() #Finds the median value of the non null values in the Sales column.\n",
    "train_median['Sales']=train_median['Sales'].fillna(median_value_Sales) #Replaces NaN values with the output median.\n",
    "print(median_value_Sales)"
   ]
  },
  {
   "cell_type": "code",
   "execution_count": 25,
   "id": "6c163711",
   "metadata": {},
   "outputs": [
    {
     "name": "stdout",
     "output_type": "stream",
     "text": [
      "0.58\n"
     ]
    }
   ],
   "source": [
    "median_value_profit=train_median['profit'].median() #Finds the median value of the non null values in the profit column.\n",
    "train_median['profit']=train_median['profit'].fillna(median_value_Sales) #Replaces NaN values with the output median.\n",
    "print(median_value_profit)"
   ]
  },
  {
   "cell_type": "code",
   "execution_count": 26,
   "id": "35a1f22a",
   "metadata": {},
   "outputs": [
    {
     "data": {
      "text/html": [
       "<div>\n",
       "<style scoped>\n",
       "    .dataframe tbody tr th:only-of-type {\n",
       "        vertical-align: middle;\n",
       "    }\n",
       "\n",
       "    .dataframe tbody tr th {\n",
       "        vertical-align: top;\n",
       "    }\n",
       "\n",
       "    .dataframe thead th {\n",
       "        text-align: right;\n",
       "    }\n",
       "</style>\n",
       "<table border=\"1\" class=\"dataframe\">\n",
       "  <thead>\n",
       "    <tr style=\"text-align: right;\">\n",
       "      <th></th>\n",
       "      <th>Row ID</th>\n",
       "      <th>Order ID</th>\n",
       "      <th>Order Quantity</th>\n",
       "      <th>Sales</th>\n",
       "      <th>profit</th>\n",
       "    </tr>\n",
       "  </thead>\n",
       "  <tbody>\n",
       "    <tr>\n",
       "      <th>0</th>\n",
       "      <td>1</td>\n",
       "      <td>3</td>\n",
       "      <td>7.0</td>\n",
       "      <td>261.5400</td>\n",
       "      <td>0.80</td>\n",
       "    </tr>\n",
       "    <tr>\n",
       "      <th>1</th>\n",
       "      <td>2</td>\n",
       "      <td>6</td>\n",
       "      <td>6.0</td>\n",
       "      <td>-6.9300</td>\n",
       "      <td>329.03</td>\n",
       "    </tr>\n",
       "    <tr>\n",
       "      <th>2</th>\n",
       "      <td>3</td>\n",
       "      <td>32</td>\n",
       "      <td>-90.0</td>\n",
       "      <td>2808.0800</td>\n",
       "      <td>0.65</td>\n",
       "    </tr>\n",
       "    <tr>\n",
       "      <th>3</th>\n",
       "      <td>4</td>\n",
       "      <td>32</td>\n",
       "      <td>24.0</td>\n",
       "      <td>1761.4000</td>\n",
       "      <td>0.72</td>\n",
       "    </tr>\n",
       "    <tr>\n",
       "      <th>4</th>\n",
       "      <td>5</td>\n",
       "      <td>32</td>\n",
       "      <td>24.0</td>\n",
       "      <td>329.0300</td>\n",
       "      <td>0.60</td>\n",
       "    </tr>\n",
       "    <tr>\n",
       "      <th>5</th>\n",
       "      <td>6</td>\n",
       "      <td>32</td>\n",
       "      <td>15.0</td>\n",
       "      <td>140.5600</td>\n",
       "      <td>0.60</td>\n",
       "    </tr>\n",
       "    <tr>\n",
       "      <th>6</th>\n",
       "      <td>7</td>\n",
       "      <td>35</td>\n",
       "      <td>-30.0</td>\n",
       "      <td>288.5600</td>\n",
       "      <td>329.03</td>\n",
       "    </tr>\n",
       "    <tr>\n",
       "      <th>7</th>\n",
       "      <td>8</td>\n",
       "      <td>35</td>\n",
       "      <td>14.0</td>\n",
       "      <td>1892.8480</td>\n",
       "      <td>329.03</td>\n",
       "    </tr>\n",
       "    <tr>\n",
       "      <th>8</th>\n",
       "      <td>9</td>\n",
       "      <td>36</td>\n",
       "      <td>46.0</td>\n",
       "      <td>2484.7455</td>\n",
       "      <td>0.55</td>\n",
       "    </tr>\n",
       "    <tr>\n",
       "      <th>9</th>\n",
       "      <td>10</td>\n",
       "      <td>65</td>\n",
       "      <td>-32.0</td>\n",
       "      <td>329.0300</td>\n",
       "      <td>0.49</td>\n",
       "    </tr>\n",
       "  </tbody>\n",
       "</table>\n",
       "</div>"
      ],
      "text/plain": [
       "   Row ID  Order ID  Order Quantity      Sales  profit\n",
       "0       1         3             7.0   261.5400    0.80\n",
       "1       2         6             6.0    -6.9300  329.03\n",
       "2       3        32           -90.0  2808.0800    0.65\n",
       "3       4        32            24.0  1761.4000    0.72\n",
       "4       5        32            24.0   329.0300    0.60\n",
       "5       6        32            15.0   140.5600    0.60\n",
       "6       7        35           -30.0   288.5600  329.03\n",
       "7       8        35            14.0  1892.8480  329.03\n",
       "8       9        36            46.0  2484.7455    0.55\n",
       "9      10        65           -32.0   329.0300    0.49"
      ]
     },
     "execution_count": 26,
     "metadata": {},
     "output_type": "execute_result"
    }
   ],
   "source": [
    "train_median.head(10) #All the NaN values are now replaced with the median of the respective columns."
   ]
  },
  {
   "cell_type": "code",
   "execution_count": 27,
   "id": "69afe86f",
   "metadata": {},
   "outputs": [
    {
     "name": "stdout",
     "output_type": "stream",
     "text": [
      "<class 'pandas.core.frame.DataFrame'>\n",
      "RangeIndex: 50 entries, 0 to 49\n",
      "Data columns (total 5 columns):\n",
      " #   Column          Non-Null Count  Dtype  \n",
      "---  ------          --------------  -----  \n",
      " 0   Row ID          50 non-null     int64  \n",
      " 1   Order ID        50 non-null     int64  \n",
      " 2   Order Quantity  50 non-null     float64\n",
      " 3   Sales           50 non-null     float64\n",
      " 4   profit          50 non-null     float64\n",
      "dtypes: float64(3), int64(2)\n",
      "memory usage: 2.1 KB\n"
     ]
    }
   ],
   "source": [
    "train_median.info() #Now we don't have any NaN values so all columns have 50 non null values."
   ]
  },
  {
   "cell_type": "code",
   "execution_count": null,
   "id": "8593fc9c",
   "metadata": {},
   "outputs": [],
   "source": []
  }
 ],
 "metadata": {
  "kernelspec": {
   "display_name": "Python 3 (ipykernel)",
   "language": "python",
   "name": "python3"
  },
  "language_info": {
   "codemirror_mode": {
    "name": "ipython",
    "version": 3
   },
   "file_extension": ".py",
   "mimetype": "text/x-python",
   "name": "python",
   "nbconvert_exporter": "python",
   "pygments_lexer": "ipython3",
   "version": "3.9.6"
  }
 },
 "nbformat": 4,
 "nbformat_minor": 5
}
