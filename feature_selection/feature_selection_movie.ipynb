{
 "cells": [
  {
   "cell_type": "code",
   "execution_count": null,
   "id": "b27ec2de",
   "metadata": {},
   "outputs": [],
   "source": [
    "'''\n",
    "Documentation:\n",
    "Topic: Apply the filter based feature selection to rank and select the best set of features for the movie genre prediction task.\n",
    "Use the dataset given below:\n",
    "Dataset: https://www.kaggle.com/balakrishcodes/others?select=Movie_classification.csv\n",
    "\n",
    "METHODOLOGY\n",
    "Part 1: \n",
    "Read and parse the initial dataset\n",
    "Load it into our pandas dataframe\n",
    "Display the dataset with feature information\n",
    "Part 2: \n",
    "Split our dataset into its attributes and labels\n",
    "Preprocessing the data\n",
    "Part 3:\n",
    "Apply mutual information gain measure.\n",
    "Print the feature importance score and select the best 5 features.\n",
    "Compare the performance without feature selection and with feature selection.\n",
    "'''"
   ]
  },
  {
   "cell_type": "code",
   "execution_count": 1,
   "id": "0df7804c",
   "metadata": {},
   "outputs": [],
   "source": [
    "# Importing all necessary libraries\n",
    "import numpy as np\n",
    "import pandas as pd\n",
    "from sklearn import preprocessing\n",
    "from sklearn.model_selection import train_test_split\n",
    "from sklearn.feature_selection import chi2, mutual_info_classif, f_classif\n",
    "from sklearn.feature_selection import SelectKBest\n",
    "from matplotlib import pyplot"
   ]
  },
  {
   "cell_type": "code",
   "execution_count": 2,
   "id": "99ef78da",
   "metadata": {},
   "outputs": [
    {
     "name": "stdout",
     "output_type": "stream",
     "text": [
      "<class 'pandas.core.frame.DataFrame'>\n",
      "RangeIndex: 506 entries, 0 to 505\n",
      "Data columns (total 19 columns):\n",
      " #   Column               Non-Null Count  Dtype  \n",
      "---  ------               --------------  -----  \n",
      " 0   Marketing expense    506 non-null    float64\n",
      " 1   Production expense   506 non-null    float64\n",
      " 2   Multiplex coverage   506 non-null    float64\n",
      " 3   Budget               506 non-null    float64\n",
      " 4   Movie_length         506 non-null    float64\n",
      " 5   Lead_ Actor_Rating   506 non-null    float64\n",
      " 6   Lead_Actress_rating  506 non-null    float64\n",
      " 7   Director_rating      506 non-null    float64\n",
      " 8   Producer_rating      506 non-null    float64\n",
      " 9   Critic_rating        506 non-null    float64\n",
      " 10  Trailer_views        506 non-null    int64  \n",
      " 11  3D_available         506 non-null    object \n",
      " 12  Time_taken           494 non-null    float64\n",
      " 13  Twitter_hastags      506 non-null    float64\n",
      " 14  Genre                506 non-null    object \n",
      " 15  Avg_age_actors       506 non-null    int64  \n",
      " 16  Num_multiplex        506 non-null    int64  \n",
      " 17  Collection           506 non-null    int64  \n",
      " 18  Start_Tech_Oscar     506 non-null    int64  \n",
      "dtypes: float64(12), int64(5), object(2)\n",
      "memory usage: 75.2+ KB\n"
     ]
    },
    {
     "data": {
      "text/html": [
       "<div>\n",
       "<style scoped>\n",
       "    .dataframe tbody tr th:only-of-type {\n",
       "        vertical-align: middle;\n",
       "    }\n",
       "\n",
       "    .dataframe tbody tr th {\n",
       "        vertical-align: top;\n",
       "    }\n",
       "\n",
       "    .dataframe thead th {\n",
       "        text-align: right;\n",
       "    }\n",
       "</style>\n",
       "<table border=\"1\" class=\"dataframe\">\n",
       "  <thead>\n",
       "    <tr style=\"text-align: right;\">\n",
       "      <th></th>\n",
       "      <th>Marketing expense</th>\n",
       "      <th>Production expense</th>\n",
       "      <th>Multiplex coverage</th>\n",
       "      <th>Budget</th>\n",
       "      <th>Movie_length</th>\n",
       "      <th>Lead_ Actor_Rating</th>\n",
       "      <th>Lead_Actress_rating</th>\n",
       "      <th>Director_rating</th>\n",
       "      <th>Producer_rating</th>\n",
       "      <th>Critic_rating</th>\n",
       "      <th>Trailer_views</th>\n",
       "      <th>3D_available</th>\n",
       "      <th>Time_taken</th>\n",
       "      <th>Twitter_hastags</th>\n",
       "      <th>Genre</th>\n",
       "      <th>Avg_age_actors</th>\n",
       "      <th>Num_multiplex</th>\n",
       "      <th>Collection</th>\n",
       "      <th>Start_Tech_Oscar</th>\n",
       "    </tr>\n",
       "  </thead>\n",
       "  <tbody>\n",
       "    <tr>\n",
       "      <th>0</th>\n",
       "      <td>20.1264</td>\n",
       "      <td>59.62</td>\n",
       "      <td>0.462</td>\n",
       "      <td>36524.125</td>\n",
       "      <td>138.7</td>\n",
       "      <td>7.825</td>\n",
       "      <td>8.095</td>\n",
       "      <td>7.910</td>\n",
       "      <td>7.995</td>\n",
       "      <td>7.94</td>\n",
       "      <td>527367</td>\n",
       "      <td>YES</td>\n",
       "      <td>109.60</td>\n",
       "      <td>223.840</td>\n",
       "      <td>Thriller</td>\n",
       "      <td>23</td>\n",
       "      <td>494</td>\n",
       "      <td>48000</td>\n",
       "      <td>1</td>\n",
       "    </tr>\n",
       "    <tr>\n",
       "      <th>1</th>\n",
       "      <td>20.5462</td>\n",
       "      <td>69.14</td>\n",
       "      <td>0.531</td>\n",
       "      <td>35668.655</td>\n",
       "      <td>152.4</td>\n",
       "      <td>7.505</td>\n",
       "      <td>7.650</td>\n",
       "      <td>7.440</td>\n",
       "      <td>7.470</td>\n",
       "      <td>7.44</td>\n",
       "      <td>494055</td>\n",
       "      <td>NO</td>\n",
       "      <td>146.64</td>\n",
       "      <td>243.456</td>\n",
       "      <td>Drama</td>\n",
       "      <td>42</td>\n",
       "      <td>462</td>\n",
       "      <td>43200</td>\n",
       "      <td>0</td>\n",
       "    </tr>\n",
       "    <tr>\n",
       "      <th>2</th>\n",
       "      <td>20.5458</td>\n",
       "      <td>69.14</td>\n",
       "      <td>0.531</td>\n",
       "      <td>39912.675</td>\n",
       "      <td>134.6</td>\n",
       "      <td>7.485</td>\n",
       "      <td>7.570</td>\n",
       "      <td>7.495</td>\n",
       "      <td>7.515</td>\n",
       "      <td>7.44</td>\n",
       "      <td>547051</td>\n",
       "      <td>NO</td>\n",
       "      <td>147.88</td>\n",
       "      <td>2022.400</td>\n",
       "      <td>Comedy</td>\n",
       "      <td>38</td>\n",
       "      <td>458</td>\n",
       "      <td>69400</td>\n",
       "      <td>1</td>\n",
       "    </tr>\n",
       "    <tr>\n",
       "      <th>3</th>\n",
       "      <td>20.6474</td>\n",
       "      <td>59.36</td>\n",
       "      <td>0.542</td>\n",
       "      <td>38873.890</td>\n",
       "      <td>119.3</td>\n",
       "      <td>6.895</td>\n",
       "      <td>7.035</td>\n",
       "      <td>6.920</td>\n",
       "      <td>7.020</td>\n",
       "      <td>8.26</td>\n",
       "      <td>516279</td>\n",
       "      <td>YES</td>\n",
       "      <td>185.36</td>\n",
       "      <td>225.344</td>\n",
       "      <td>Drama</td>\n",
       "      <td>45</td>\n",
       "      <td>472</td>\n",
       "      <td>66800</td>\n",
       "      <td>1</td>\n",
       "    </tr>\n",
       "    <tr>\n",
       "      <th>4</th>\n",
       "      <td>21.3810</td>\n",
       "      <td>59.36</td>\n",
       "      <td>0.542</td>\n",
       "      <td>39701.585</td>\n",
       "      <td>127.7</td>\n",
       "      <td>6.920</td>\n",
       "      <td>7.070</td>\n",
       "      <td>6.815</td>\n",
       "      <td>7.070</td>\n",
       "      <td>8.26</td>\n",
       "      <td>531448</td>\n",
       "      <td>NO</td>\n",
       "      <td>176.48</td>\n",
       "      <td>225.792</td>\n",
       "      <td>Drama</td>\n",
       "      <td>55</td>\n",
       "      <td>395</td>\n",
       "      <td>72400</td>\n",
       "      <td>1</td>\n",
       "    </tr>\n",
       "  </tbody>\n",
       "</table>\n",
       "</div>"
      ],
      "text/plain": [
       "   Marketing expense  Production expense  Multiplex coverage     Budget  \\\n",
       "0            20.1264               59.62               0.462  36524.125   \n",
       "1            20.5462               69.14               0.531  35668.655   \n",
       "2            20.5458               69.14               0.531  39912.675   \n",
       "3            20.6474               59.36               0.542  38873.890   \n",
       "4            21.3810               59.36               0.542  39701.585   \n",
       "\n",
       "   Movie_length  Lead_ Actor_Rating  Lead_Actress_rating  Director_rating  \\\n",
       "0         138.7               7.825                8.095            7.910   \n",
       "1         152.4               7.505                7.650            7.440   \n",
       "2         134.6               7.485                7.570            7.495   \n",
       "3         119.3               6.895                7.035            6.920   \n",
       "4         127.7               6.920                7.070            6.815   \n",
       "\n",
       "   Producer_rating  Critic_rating  Trailer_views 3D_available  Time_taken  \\\n",
       "0            7.995           7.94         527367          YES      109.60   \n",
       "1            7.470           7.44         494055           NO      146.64   \n",
       "2            7.515           7.44         547051           NO      147.88   \n",
       "3            7.020           8.26         516279          YES      185.36   \n",
       "4            7.070           8.26         531448           NO      176.48   \n",
       "\n",
       "   Twitter_hastags     Genre  Avg_age_actors  Num_multiplex  Collection  \\\n",
       "0          223.840  Thriller              23            494       48000   \n",
       "1          243.456     Drama              42            462       43200   \n",
       "2         2022.400    Comedy              38            458       69400   \n",
       "3          225.344     Drama              45            472       66800   \n",
       "4          225.792     Drama              55            395       72400   \n",
       "\n",
       "   Start_Tech_Oscar  \n",
       "0                 1  \n",
       "1                 0  \n",
       "2                 1  \n",
       "3                 1  \n",
       "4                 1  "
      ]
     },
     "execution_count": 2,
     "metadata": {},
     "output_type": "execute_result"
    }
   ],
   "source": [
    "# loading the dataset\n",
    "df=pd.read_csv('Movie_classification.csv') #Reads the csv file\n",
    "df.info()\n",
    "df.head()"
   ]
  },
  {
   "cell_type": "code",
   "execution_count": 3,
   "id": "56ec9bd3",
   "metadata": {},
   "outputs": [
    {
     "data": {
      "text/plain": [
       "Marketing expense       0\n",
       "Production expense      0\n",
       "Multiplex coverage      0\n",
       "Budget                  0\n",
       "Movie_length            0\n",
       "Lead_ Actor_Rating      0\n",
       "Lead_Actress_rating     0\n",
       "Director_rating         0\n",
       "Producer_rating         0\n",
       "Critic_rating           0\n",
       "Trailer_views           0\n",
       "3D_available            0\n",
       "Time_taken             12\n",
       "Twitter_hastags         0\n",
       "Genre                   0\n",
       "Avg_age_actors          0\n",
       "Num_multiplex           0\n",
       "Collection              0\n",
       "Start_Tech_Oscar        0\n",
       "dtype: int64"
      ]
     },
     "execution_count": 3,
     "metadata": {},
     "output_type": "execute_result"
    }
   ],
   "source": [
    "df.isnull().sum() #12 null values in the Time_taken column"
   ]
  },
  {
   "cell_type": "code",
   "execution_count": 4,
   "id": "a089ef9b",
   "metadata": {},
   "outputs": [
    {
     "name": "stdout",
     "output_type": "stream",
     "text": [
      "<class 'pandas.core.frame.DataFrame'>\n",
      "Int64Index: 494 entries, 0 to 505\n",
      "Data columns (total 19 columns):\n",
      " #   Column               Non-Null Count  Dtype  \n",
      "---  ------               --------------  -----  \n",
      " 0   Marketing expense    494 non-null    float64\n",
      " 1   Production expense   494 non-null    float64\n",
      " 2   Multiplex coverage   494 non-null    float64\n",
      " 3   Budget               494 non-null    float64\n",
      " 4   Movie_length         494 non-null    float64\n",
      " 5   Lead_ Actor_Rating   494 non-null    float64\n",
      " 6   Lead_Actress_rating  494 non-null    float64\n",
      " 7   Director_rating      494 non-null    float64\n",
      " 8   Producer_rating      494 non-null    float64\n",
      " 9   Critic_rating        494 non-null    float64\n",
      " 10  Trailer_views        494 non-null    int64  \n",
      " 11  3D_available         494 non-null    object \n",
      " 12  Time_taken           494 non-null    float64\n",
      " 13  Twitter_hastags      494 non-null    float64\n",
      " 14  Genre                494 non-null    object \n",
      " 15  Avg_age_actors       494 non-null    int64  \n",
      " 16  Num_multiplex        494 non-null    int64  \n",
      " 17  Collection           494 non-null    int64  \n",
      " 18  Start_Tech_Oscar     494 non-null    int64  \n",
      "dtypes: float64(12), int64(5), object(2)\n",
      "memory usage: 77.2+ KB\n"
     ]
    }
   ],
   "source": [
    "#to remove the null values, we can remove it or replace it with mean of the rest of the values.\n",
    "#we will replace null values with the mean of the non null values in the column\n",
    "df_mean=df.dropna() #It deletes all rows where NaN is found.\n",
    "df_mean.info()"
   ]
  },
  {
   "cell_type": "code",
   "execution_count": 5,
   "id": "8b706693",
   "metadata": {},
   "outputs": [
    {
     "name": "stdout",
     "output_type": "stream",
     "text": [
      "157.3914979757085\n"
     ]
    }
   ],
   "source": [
    "#Fill the missing values with mean of the non null values\n",
    "mean_value_tt=df['Time_taken'].mean() #Finds the mean value of the non null values in the Time_taken column\n",
    "df['Time_taken']=df['Time_taken'].fillna(mean_value_tt) #Replaces NaN values with the output mean\n",
    "print(mean_value_tt)"
   ]
  },
  {
   "cell_type": "code",
   "execution_count": 6,
   "id": "73fcd9b6",
   "metadata": {},
   "outputs": [
    {
     "data": {
      "text/plain": [
       "Marketing expense      0\n",
       "Production expense     0\n",
       "Multiplex coverage     0\n",
       "Budget                 0\n",
       "Movie_length           0\n",
       "Lead_ Actor_Rating     0\n",
       "Lead_Actress_rating    0\n",
       "Director_rating        0\n",
       "Producer_rating        0\n",
       "Critic_rating          0\n",
       "Trailer_views          0\n",
       "3D_available           0\n",
       "Time_taken             0\n",
       "Twitter_hastags        0\n",
       "Genre                  0\n",
       "Avg_age_actors         0\n",
       "Num_multiplex          0\n",
       "Collection             0\n",
       "Start_Tech_Oscar       0\n",
       "dtype: int64"
      ]
     },
     "execution_count": 6,
     "metadata": {},
     "output_type": "execute_result"
    }
   ],
   "source": [
    "df.isnull().sum()"
   ]
  },
  {
   "cell_type": "code",
   "execution_count": 7,
   "id": "ff43f63b",
   "metadata": {},
   "outputs": [
    {
     "name": "stdout",
     "output_type": "stream",
     "text": [
      "Count of unique values in each column :\n",
      "Marketing expense      504\n",
      "Production expense      76\n",
      "Multiplex coverage      81\n",
      "Budget                 446\n",
      "Movie_length           356\n",
      "Lead_ Actor_Rating     339\n",
      "Lead_Actress_rating    354\n",
      "Director_rating        339\n",
      "Producer_rating        353\n",
      "Critic_rating           74\n",
      "Trailer_views          504\n",
      "3D_available             2\n",
      "Time_taken             450\n",
      "Twitter_hastags        423\n",
      "Genre                    4\n",
      "Avg_age_actors          42\n",
      "Num_multiplex          293\n",
      "Collection             228\n",
      "Start_Tech_Oscar         2\n",
      "dtype: int64\n"
     ]
    }
   ],
   "source": [
    "uv = df.nunique()\n",
    "print('Count of unique values in each column :')\n",
    "print(uv)"
   ]
  },
  {
   "cell_type": "code",
   "execution_count": 8,
   "id": "6d59c4d3",
   "metadata": {},
   "outputs": [],
   "source": [
    "# for 3D_available, Genre and Start_Tech_Oscar column, we use label encoder"
   ]
  },
  {
   "cell_type": "code",
   "execution_count": 9,
   "id": "f089577a",
   "metadata": {},
   "outputs": [
    {
     "name": "stdout",
     "output_type": "stream",
     "text": [
      "     3D_available\n",
      "0               1\n",
      "1               0\n",
      "2               0\n",
      "3               1\n",
      "4               0\n",
      "..            ...\n",
      "501             0\n",
      "502             1\n",
      "503             0\n",
      "504             1\n",
      "505             1\n",
      "\n",
      "[506 rows x 1 columns]\n",
      "     Genre\n",
      "0        3\n",
      "1        2\n",
      "2        1\n",
      "3        2\n",
      "4        2\n",
      "..     ...\n",
      "501      0\n",
      "502      0\n",
      "503      1\n",
      "504      1\n",
      "505      1\n",
      "\n",
      "[506 rows x 1 columns]\n"
     ]
    }
   ],
   "source": [
    "#using label encoder\n",
    "le = preprocessing.LabelEncoder()\n",
    "df.iloc[:,11:12]=df.iloc[:,11:12].apply(le.fit_transform)\n",
    "df.iloc[:,14:15]=df.iloc[:,14:15].apply(le.fit_transform)\n",
    "print(df.iloc[:,11:12])\n",
    "print(df.iloc[:,14:15])"
   ]
  },
  {
   "cell_type": "code",
   "execution_count": 10,
   "id": "59ec576c",
   "metadata": {},
   "outputs": [],
   "source": [
    "X = df.iloc[:,:-1].values\n",
    "y = df.iloc[:,-1].values\n",
    "# split into train and test sets\n",
    "X_train, X_test, y_train, y_test = train_test_split(X, y, test_size=0.3, random_state=1)"
   ]
  },
  {
   "cell_type": "code",
   "execution_count": 11,
   "id": "02569a63",
   "metadata": {},
   "outputs": [
    {
     "name": "stdout",
     "output_type": "stream",
     "text": [
      "Feature 0: 0.027665\n",
      "Feature 1: 0.000000\n",
      "Feature 2: 0.037357\n",
      "Feature 3: 0.047658\n",
      "Feature 4: 0.000000\n",
      "Feature 5: 0.062611\n",
      "Feature 6: 0.036238\n",
      "Feature 7: 0.012717\n",
      "Feature 8: 0.017302\n",
      "Feature 9: 0.000000\n",
      "Feature 10: 0.032684\n",
      "Feature 11: 0.000000\n",
      "Feature 12: 0.000000\n",
      "Feature 13: 0.031426\n",
      "Feature 14: 0.000000\n",
      "Feature 15: 0.000000\n",
      "Feature 16: 0.000195\n",
      "Feature 17: 0.051596\n"
     ]
    },
    {
     "data": {
      "image/png": "[encoded data removed]",
      "text/plain": [
       "<Figure size 432x288 with 1 Axes>"
      ]
     },
     "metadata": {
      "needs_background": "light"
     },
     "output_type": "display_data"
    }
   ],
   "source": [
    "# mutual information gain measure (mutual_info_classif)\n",
    "def select_features(X_train, y_train, X_test):\n",
    "    # configure to select all features\n",
    "    fs = SelectKBest(score_func=mutual_info_classif, k='all')\n",
    "    # learn relationship from training data\n",
    "    fs.fit(X_train, y_train)\n",
    "    # transform train input data\n",
    "    X_train_fs = fs.transform(X_train)\n",
    "    # transform test input data\n",
    "    X_test_fs = fs.transform(X_test)\n",
    "    return X_train_fs, X_test_fs, fs\n",
    "\n",
    "# feature selection\n",
    "X_train_fs, X_test_fs, fs = select_features(X_train, y_train, X_test)\n",
    "# what are scores for the features\n",
    "for i in range(len(fs.scores_)):\n",
    "    print('Feature %d: %f' % (i, fs.scores_[i]))\n",
    "# plot the scores\n",
    "pyplot.bar([i for i in range(len(fs.scores_))], fs.scores_)\n",
    "pyplot.show()"
   ]
  },
  {
   "cell_type": "code",
   "execution_count": 12,
   "id": "8aec76d7",
   "metadata": {},
   "outputs": [
    {
     "name": "stdout",
     "output_type": "stream",
     "text": [
      "Feature 0: 29.316487\n",
      "Feature 1: 1.513034\n",
      "Feature 2: 0.016534\n",
      "Feature 3: 295.590517\n",
      "Feature 4: 2.154403\n",
      "Feature 5: 0.266094\n",
      "Feature 6: 0.325796\n",
      "Feature 7: 0.289075\n",
      "Feature 8: 0.311973\n",
      "Feature 9: 0.000029\n",
      "Feature 10: 8151.670437\n",
      "Feature 11: 0.291965\n",
      "Feature 12: 2.931468\n",
      "Feature 13: 164.350559\n",
      "Feature 14: 0.205508\n",
      "Feature 15: 9.165107\n",
      "Feature 16: 15.620124\n",
      "Feature 17: 77395.816855\n"
     ]
    },
    {
     "data": {
      "image/png": "[encoded data removed]",
      "text/plain": [
       "<Figure size 432x288 with 1 Axes>"
      ]
     },
     "metadata": {
      "needs_background": "light"
     },
     "output_type": "display_data"
    }
   ],
   "source": [
    "# feature selection - chi2\n",
    "def select_features(X_train, y_train, X_test):\n",
    "    # configure to select all features\n",
    "    fs = SelectKBest(score_func=chi2, k='all')\n",
    "    # learn relationship from training data\n",
    "    fs.fit(X_train, y_train)\n",
    "    # transform train input data\n",
    "    X_train_fs = fs.transform(X_train)\n",
    "    # transform test input data\n",
    "    X_test_fs = fs.transform(X_test)\n",
    "    return X_train_fs, X_test_fs, fs\n",
    "\n",
    "# feature selection\n",
    "X_train_fs, X_test_fs, fs = select_features(X_train, y_train, X_test)\n",
    "# what are scores for the features\n",
    "for i in range(len(fs.scores_)):\n",
    "    print('Feature %d: %f' % (i, fs.scores_[i]))\n",
    "# plot the scores\n",
    "pyplot.bar([i for i in range(len(fs.scores_))], fs.scores_)\n",
    "pyplot.show()"
   ]
  },
  {
   "cell_type": "code",
   "execution_count": 13,
   "id": "3ad4ad0c",
   "metadata": {},
   "outputs": [
    {
     "name": "stdout",
     "output_type": "stream",
     "text": [
      "Feature 0: 0.095427\n",
      "Feature 1: 0.623209\n",
      "Feature 2: 0.527134\n",
      "Feature 3: 0.692954\n",
      "Feature 4: 0.383204\n",
      "Feature 5: 1.858656\n",
      "Feature 6: 2.332737\n",
      "Feature 7: 2.008096\n",
      "Feature 8: 2.257092\n",
      "Feature 9: 0.000557\n",
      "Feature 10: 0.742924\n",
      "Feature 11: 0.620197\n",
      "Feature 12: 0.461985\n",
      "Feature 13: 2.848057\n",
      "Feature 14: 0.313055\n",
      "Feature 15: 2.335461\n",
      "Feature 16: 0.722103\n",
      "Feature 17: 10.971967\n"
     ]
    },
    {
     "data": {
      "image/png": "[encoded data removed]",
      "text/plain": [
       "<Figure size 432x288 with 1 Axes>"
      ]
     },
     "metadata": {
      "needs_background": "light"
     },
     "output_type": "display_data"
    }
   ],
   "source": [
    "# feature selection - f_classif (ANOVA)\n",
    "def select_features(X_train, y_train, X_test):\n",
    "    # configure to select all features\n",
    "    fs = SelectKBest(score_func=f_classif, k='all')\n",
    "    # learn relationship from training data\n",
    "    fs.fit(X_train, y_train)\n",
    "    # transform train input data\n",
    "    X_train_fs = fs.transform(X_train)\n",
    "    # transform test input data\n",
    "    X_test_fs = fs.transform(X_test)\n",
    "    return X_train_fs, X_test_fs, fs\n",
    "\n",
    "# feature selection\n",
    "X_train_fs, X_test_fs, fs = select_features(X_train, y_train, X_test)\n",
    "# what are scores for the features\n",
    "for i in range(len(fs.scores_)):\n",
    "    print('Feature %d: %f' % (i, fs.scores_[i]))\n",
    "# plot the scores\n",
    "pyplot.bar([i for i in range(len(fs.scores_))], fs.scores_)\n",
    "pyplot.show()"
   ]
  },
  {
   "cell_type": "code",
   "execution_count": 14,
   "id": "6f56b999",
   "metadata": {},
   "outputs": [
    {
     "name": "stdout",
     "output_type": "stream",
     "text": [
      "Explained Variance: [9.67484265e-01 3.10529835e-02 1.45420350e-03 4.59483043e-06\n",
      " 2.14593109e-06]\n",
      "[[ 1.09364587e-03  1.16064913e-04 -9.58999386e-07 -3.42594738e-02\n",
      "   2.34921529e-04  7.27180637e-06  7.23099346e-06  7.25151759e-06\n",
      "   7.20330107e-06 -2.23151857e-06 -9.80276044e-01 -6.85877150e-07\n",
      "  -3.40316957e-05  7.77272705e-06 -1.56594093e-06  8.96790864e-06\n",
      "   8.22796090e-04 -1.94636130e-01]\n",
      " [-1.12157258e-03 -6.89966566e-05 -6.97912870e-08  1.15925856e-01\n",
      "   2.04035492e-04  1.38388069e-05  1.38309689e-05  1.41481610e-05\n",
      "   1.39481085e-05  1.28945528e-05 -1.97334743e-01  6.63063672e-06\n",
      "   1.89585427e-04  3.42857677e-04  1.60395579e-06 -1.58635680e-05\n",
      "   1.80387389e-04  9.73457089e-01]\n",
      " [-7.94632831e-03  1.02671970e-05  3.29533827e-06 -9.92632107e-01\n",
      "  -1.30217784e-03 -1.60452496e-05 -1.76302283e-05 -1.78694909e-05\n",
      "  -1.64203485e-05  2.17031170e-06  1.07770920e-02 -1.09197908e-05\n",
      "   5.91263807e-04 -1.02845503e-03  1.91974391e-05  1.83428335e-04\n",
      "  -2.51290424e-03  1.20385865e-01]\n",
      " [ 9.86633537e-01  1.75620499e-02 -1.78814833e-04 -8.04945837e-03\n",
      "   2.44062026e-02  1.66317298e-03  1.66883285e-03  1.68644302e-03\n",
      "   1.63490222e-03 -2.81675876e-04  1.07155906e-03 -1.39864985e-04\n",
      "   1.67894047e-02  1.60353127e-02  1.46042596e-04  4.21916402e-03\n",
      "   1.58148795e-01  2.27044304e-03]\n",
      " [-1.46061281e-02 -1.12687453e-03  2.21375483e-05 -9.23267736e-04\n",
      "  -1.75001010e-03 -4.70940520e-05 -9.10500148e-05 -9.48160367e-05\n",
      "  -1.33575074e-04 -1.94290875e-04  6.37588085e-05 -3.47836989e-04\n",
      "  -3.04904148e-03  9.99839993e-01 -3.72628578e-04 -6.03617783e-04\n",
      "  -9.56058686e-03 -2.43451195e-04]]\n"
     ]
    }
   ],
   "source": [
    "'''Principal Component Analysis (or PCA) uses linear algebra to transform the dataset into a compressed form.\n",
    "Generally this is called a data reduction technique. A property of PCA is that you can choose the number of dimensions or principal component in the transformed result.\n",
    "In the example below, we use PCA and select 5 principal components.'''\n",
    "\n",
    "from sklearn.decomposition import PCA\n",
    "pca = PCA(n_components=5)\n",
    "fit = pca.fit(X)\n",
    "# summarize components\n",
    "print(\"Explained Variance: %s\" % fit.explained_variance_ratio_)\n",
    "print(fit.components_)"
   ]
  }
 ],
 "metadata": {
  "interpreter": {
   "hash": "9678f8789bb76b1ed510d8c6ab8133bae57854d44d8f940328c9f7cf9bfb4f84"
  },
  "kernelspec": {
   "display_name": "Python 3 (ipykernel)",
   "language": "python",
   "name": "python3"
  },
  "language_info": {
   "codemirror_mode": {
    "name": "ipython",
    "version": 3
   },
   "file_extension": ".py",
   "mimetype": "text/x-python",
   "name": "python",
   "nbconvert_exporter": "python",
   "pygments_lexer": "ipython3",
   "version": "3.9.9"
  }
 },
 "nbformat": 4,
 "nbformat_minor": 5
}
