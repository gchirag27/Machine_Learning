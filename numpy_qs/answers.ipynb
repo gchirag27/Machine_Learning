{
 "cells": [
  {
   "cell_type": "code",
   "execution_count": null,
   "id": "dbb7c563",
   "metadata": {},
   "outputs": [],
   "source": [
    "import numpy as np\n",
    "a=np.random.randn(2,2)\n",
    "b=np.random.randn(2,2)\n",
    "print(\"First matrix is:\\n\",a)\n",
    "print(\"Second matrix is:\\n\",b)\n",
    "print(\"Elementwise product matrix:\\n\",a*b)\n",
    "print(\"Matrix multiplication product:\\n\",np.dot(a,b))"
   ]
  },
  {
   "cell_type": "code",
   "execution_count": null,
   "id": "c23078c3",
   "metadata": {},
   "outputs": [],
   "source": [
    "import numpy as np\n",
    "N=int(input(\"N=Order of matrix: \"))\n",
    "a=np.random.randint(1,100,N*N).reshape(N,N)\n",
    "print(\"Randomly generated matrix is:\\n\",a)\n",
    "print(\"Reverse of the matrix:\\n\",np.flip(a))"
   ]
  },
  {
   "cell_type": "code",
   "execution_count": null,
   "id": "d24ddec0",
   "metadata": {},
   "outputs": [],
   "source": [
    "import numpy as np\n",
    "n=int(input(\"n=Order of matrix: \"))\n",
    "Z=np.zeros((n,n))\n",
    "print(\"Null matrix:\\n\",Z)\n",
    "for i in range(n):\n",
    "    if(i==0 or i==n-1):\n",
    "        Z[i]=1\n",
    "    else:\n",
    "        Z[i][0]=1\n",
    "        Z[i][-1]=1\n",
    "print(\"Flattened matrix after replacing the values:\\n\",Z.flatten())"
   ]
  },
  {
   "cell_type": "code",
   "execution_count": null,
   "id": "4f633387",
   "metadata": {},
   "outputs": [],
   "source": [
    "import numpy as np\n",
    "n=int(input(\"n=Order of matrix: \"))\n",
    "a=np.random.randint(1,100,n*n).reshape(n,n)\n",
    "print(\"Unflattened matrix:\\n\",a)\n",
    "b=a.flatten()\n",
    "print(\"Flattened matrix:\\n\",b)\n",
    "m=np.mean(b)\n",
    "sd=np.std(b)\n",
    "v=np.var(b)\n",
    "print(\"Mean={}, Variance={}, Standard Deviation={}\".format(m,v,sd))\n",
    "L=[m,v,sd]\n",
    "l=len(L)\n",
    "z=np.zeros((l,l))\n",
    "for i in range(l):\n",
    "    z[i,i]=L[i]\n",
    "print(z)"
   ]
  },
  {
   "cell_type": "code",
   "execution_count": null,
   "id": "6bbc30a8",
   "metadata": {},
   "outputs": [],
   "source": [
    "import numpy as np\n",
    "N=int(input(\"n=Order of matrix: \"))\n",
    "a=np.random.randint(1,10,N*N).reshape(N,N)\n",
    "print(\"Matrix is:\\n\",a,\"\\nDeterminant is:\\n\",round(np.linalg.det(a)),\"\\nInverse is:\\n\",np.linalg.inv(a),\"\\nAdjoint is:\\n\",np.linalg.inv(a)*round(np.linalg.det(a)))"
   ]
  },
  {
   "cell_type": "code",
   "execution_count": null,
   "id": "bc66f064",
   "metadata": {},
   "outputs": [],
   "source": [
    "import numpy as np\n",
    "def convert(d):\n",
    "    x=list(d.keys())\n",
    "    y=list(d.values())\n",
    "    a=np.array([x,y])\n",
    "    b=a.transpose()\n",
    "    m=np.asmatrix(b)\n",
    "    f=open(\"Output.txt\",\"w\")\n",
    "    f.write(\"  K V\\n\")\n",
    "    f.write(str(m))\n",
    "    f.close()\n",
    "d={1:2,3:4,5:6}\n",
    "convert(d)"
   ]
  }
 ],
 "metadata": {
  "kernelspec": {
   "display_name": "Python 3 (ipykernel)",
   "language": "python",
   "name": "python3"
  },
  "language_info": {
   "codemirror_mode": {
    "name": "ipython",
    "version": 3
   },
   "file_extension": ".py",
   "mimetype": "text/x-python",
   "name": "python",
   "nbconvert_exporter": "python",
   "pygments_lexer": "ipython3",
   "version": "3.9.6"
  }
 },
 "nbformat": 4,
 "nbformat_minor": 5
}
